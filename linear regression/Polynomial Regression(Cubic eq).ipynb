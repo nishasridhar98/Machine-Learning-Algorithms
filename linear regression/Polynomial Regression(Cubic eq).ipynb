{
 "cells": [
  {
   "cell_type": "code",
   "execution_count": 1,
   "metadata": {},
   "outputs": [],
   "source": [
    "import numpy as np\n",
    "import pandas as pd\n",
    "import matplotlib.pyplot as plt\n",
    "\n",
    "from sklearn.datasets import load_boston\n",
    "from sklearn.model_selection import train_test_split"
   ]
  },
  {
   "cell_type": "code",
   "execution_count": 2,
   "metadata": {},
   "outputs": [],
   "source": [
    "boston=load_boston()"
   ]
  },
  {
   "cell_type": "code",
   "execution_count": 3,
   "metadata": {},
   "outputs": [
    {
     "data": {
      "text/plain": [
       "array([[6.3200e-03, 1.8000e+01, 2.3100e+00, ..., 1.5300e+01, 3.9690e+02,\n",
       "        4.9800e+00],\n",
       "       [2.7310e-02, 0.0000e+00, 7.0700e+00, ..., 1.7800e+01, 3.9690e+02,\n",
       "        9.1400e+00],\n",
       "       [2.7290e-02, 0.0000e+00, 7.0700e+00, ..., 1.7800e+01, 3.9283e+02,\n",
       "        4.0300e+00],\n",
       "       ...,\n",
       "       [6.0760e-02, 0.0000e+00, 1.1930e+01, ..., 2.1000e+01, 3.9690e+02,\n",
       "        5.6400e+00],\n",
       "       [1.0959e-01, 0.0000e+00, 1.1930e+01, ..., 2.1000e+01, 3.9345e+02,\n",
       "        6.4800e+00],\n",
       "       [4.7410e-02, 0.0000e+00, 1.1930e+01, ..., 2.1000e+01, 3.9690e+02,\n",
       "        7.8800e+00]])"
      ]
     },
     "execution_count": 3,
     "metadata": {},
     "output_type": "execute_result"
    }
   ],
   "source": [
    "data=boston.data\n",
    "data"
   ]
  },
  {
   "cell_type": "code",
   "execution_count": 4,
   "metadata": {},
   "outputs": [],
   "source": [
    "key=boston.keys()"
   ]
  },
  {
   "cell_type": "code",
   "execution_count": 5,
   "metadata": {},
   "outputs": [
    {
     "data": {
      "text/plain": [
       "dict_keys(['data', 'target', 'feature_names', 'DESCR', 'filename'])"
      ]
     },
     "execution_count": 5,
     "metadata": {},
     "output_type": "execute_result"
    }
   ],
   "source": [
    "key"
   ]
  },
  {
   "cell_type": "code",
   "execution_count": 6,
   "metadata": {},
   "outputs": [],
   "source": [
    "features=pd.DataFrame(data,columns=boston.feature_names)\n",
    "target=pd.DataFrame(boston.target,columns=[\"Target\"])"
   ]
  },
  {
   "cell_type": "code",
   "execution_count": 7,
   "metadata": {},
   "outputs": [],
   "source": [
    "data=pd.concat([features,target],axis=1)"
   ]
  },
  {
   "cell_type": "code",
   "execution_count": 8,
   "metadata": {},
   "outputs": [],
   "source": [
    "correlation=data.corr(\"pearson\")"
   ]
  },
  {
   "cell_type": "code",
   "execution_count": 9,
   "metadata": {},
   "outputs": [
    {
     "data": {
      "text/plain": [
       "CHAS       0.175260\n",
       "DIS        0.249929\n",
       "B          0.333461\n",
       "ZN         0.360445\n",
       "AGE        0.376955\n",
       "RAD        0.381626\n",
       "CRIM       0.388305\n",
       "NOX        0.427321\n",
       "TAX        0.468536\n",
       "INDUS      0.483725\n",
       "PTRATIO    0.507787\n",
       "RM         0.695360\n",
       "LSTAT      0.737663\n",
       "Target     1.000000\n",
       "Name: Target, dtype: float64"
      ]
     },
     "execution_count": 9,
     "metadata": {},
     "output_type": "execute_result"
    }
   ],
   "source": [
    "abs(correlation['Target']).sort_values()"
   ]
  },
  {
   "cell_type": "code",
   "execution_count": 10,
   "metadata": {},
   "outputs": [],
   "source": [
    "X=data[\"RM\"]\n",
    "Y=data[\"Target\"]\n",
    "Z=data[\"LSTAT\"]"
   ]
  },
  {
   "cell_type": "code",
   "execution_count": 11,
   "metadata": {},
   "outputs": [],
   "source": [
    "X=(X-X.min())/(X.max()-X.min())\n",
    "Y=(Y-Y.min())/(Y.max()-Y.min())\n",
    "Z=(Z-Z.min())/(Z.max()-Z.min())"
   ]
  },
  {
   "cell_type": "code",
   "execution_count": 13,
   "metadata": {},
   "outputs": [
    {
     "data": {
      "text/plain": [
       "[<matplotlib.lines.Line2D at 0x1cccbfd37f0>,\n",
       " <matplotlib.lines.Line2D at 0x1cccbfa8160>]"
      ]
     },
     "execution_count": 13,
     "metadata": {},
     "output_type": "execute_result"
    },
    {
     "data": {
      "image/png": "[encoded data removed]",
      "text/plain": [
       "<Figure size 432x288 with 1 Axes>"
      ]
     },
     "metadata": {
      "needs_background": "light"
     },
     "output_type": "display_data"
    }
   ],
   "source": [
    "plt.plot(X,Y,'r.',\n",
    "        Z,Y,'.')"
   ]
  },
  {
   "cell_type": "code",
   "execution_count": 14,
   "metadata": {},
   "outputs": [],
   "source": [
    "x=np.array(X)\n",
    "y=np.array(Y)"
   ]
  },
  {
   "cell_type": "code",
   "execution_count": 15,
   "metadata": {},
   "outputs": [],
   "source": [
    "x_train,x_test,y_train,y_test=train_test_split(x,y,test_size=0.2)"
   ]
  },
  {
   "cell_type": "code",
   "execution_count": 16,
   "metadata": {},
   "outputs": [
    {
     "data": {
      "text/plain": [
       "404"
      ]
     },
     "execution_count": 16,
     "metadata": {},
     "output_type": "execute_result"
    }
   ],
   "source": [
    "len(x_train)"
   ]
  },
  {
   "cell_type": "code",
   "execution_count": 17,
   "metadata": {},
   "outputs": [
    {
     "data": {
      "text/plain": [
       "102"
      ]
     },
     "execution_count": 17,
     "metadata": {},
     "output_type": "execute_result"
    }
   ],
   "source": [
    "len(x_test)"
   ]
  },
  {
   "cell_type": "code",
   "execution_count": 18,
   "metadata": {},
   "outputs": [],
   "source": [
    "def hypothesis(a,x,b,c,d):\n",
    "    return a*np.power(x,3)+b*np.power(x,2)+c*x+d #ax3+bx2+cx+d"
   ]
  },
  {
   "cell_type": "code",
   "execution_count": 19,
   "metadata": {},
   "outputs": [],
   "source": [
    "def error(a,x,b,c,d,y):\n",
    "    e=0\n",
    "    m=len(x)\n",
    "    \n",
    "    for i in range(m):\n",
    "        e += np.power((hypothesis(a,x[i],b,c,d)-y[i]),2)\n",
    "        \n",
    "    return (1/(2*m))*e"
   ]
  },
  {
   "cell_type": "code",
   "execution_count": 20,
   "metadata": {},
   "outputs": [],
   "source": [
    "def step_gradient(a,x,b,c,d,y,learning_rate):\n",
    "    grad_a=0\n",
    "    grad_b=0\n",
    "    grad_c=0\n",
    "    grad_d=0\n",
    "    m=len(x)\n",
    "    \n",
    "    for i in range(m):\n",
    "        grad_a +=(1/m)*(hypothesis(a,x[i],b,c,d)-y[i])*(np.power(x[i],3))\n",
    "        grad_b +=(1/m)*(hypothesis(a,x[i],b,c,d)-y[i])*(np.power(x[i],2))\n",
    "        grad_c +=(1/m)*(hypothesis(a,x[i],b,c,d)-y[i])*x[i]\n",
    "        grad_d +=(1/m)*(hypothesis(a,x[i],b,c,d)-y[i])\n",
    "        \n",
    "    a=a-grad_a*learning_rate\n",
    "    b=b-grad_b*learning_rate\n",
    "    c=c-grad_c*learning_rate\n",
    "    d=d-grad_d*learning_rate\n",
    "    \n",
    "    return a,b,c,d"
   ]
  },
  {
   "cell_type": "code",
   "execution_count": 21,
   "metadata": {},
   "outputs": [],
   "source": [
    "def descend(init_a,x,init_b,init_c,init_d,y,learning_rate,iterations):\n",
    "    a=init_a\n",
    "    b=init_b\n",
    "    c=init_c\n",
    "    d=init_d\n",
    "    \n",
    "    for i in range(iterations):\n",
    "        e=error(a,x,b,c,d,y)\n",
    "        \n",
    "        if i%1000==0:\n",
    "            print(f\"Error:{np.sqrt(e)},a:{a},b:{b},c:{c},d:{d}\")\n",
    "    \n",
    "        a,b,c,d=step_gradient(a,x,b,c,d,y,learning_rate)\n",
    "        \n",
    "    return a,b,c,d"
   ]
  },
  {
   "cell_type": "code",
   "execution_count": 30,
   "metadata": {},
   "outputs": [],
   "source": [
    "a=0.3526014485874478\n",
    "b=0.3776295656381087\n",
    "c=0.30396952685688783\n",
    "d=.06264214290505221\n",
    "learning_rate=0.001\n",
    "iterations=10000"
   ]
  },
  {
   "cell_type": "code",
   "execution_count": 31,
   "metadata": {},
   "outputs": [
    {
     "name": "stdout",
     "output_type": "stream",
     "text": [
      "Error:0.09193597783839266,a:0.3526014485874478,b:0.3776295656381087,c:0.30396952685688783,d:0.06264214290505221\n",
      "Error:0.09193502989853997,a:0.3528620056516594,b:0.3779236818266675,c:0.30385053696972214,d:0.06256645044750274\n",
      "Error:0.09193413148158978,a:0.35311375320757254,b:0.37820955344394597,c:0.30372672602502426,d:0.06249754680476313\n",
      "Error:0.09193327812921245,a:0.3533570947707295,b:0.3784875665014737,c:0.3035983303834398,d:0.0624351100893257\n",
      "Error:0.09193246579066515,a:0.3535924149682502,b:0.378758088929712,c:0.3034655753199178,d:0.06237883349650504\n",
      "Error:0.09193169078551981,a:0.3538200804235681,b:0.3790214714249888,c:0.30332867554299475,d:0.06232842459793912\n",
      "Error:0.09193094976979728,a:0.35404044059972267,b:0.37927804825676126,c:0.30318783568975416,d:0.0622836046681803\n",
      "Error:0.09193023970519827,a:0.35425382860314825,b:0.3795281380370648,c:0.3030432507976007,d:0.06224410804283244\n",
      "Error:0.09192955783114741,a:0.3544605619498152,b:0.37977204445391805,c:0.3028951067539408,d:0.06220968150675164\n",
      "Error:0.09192890163939313,a:0.35466094329548714,b:0.38001005697038415,c:0.30274358072479357,d:0.0621800837109047\n"
     ]
    }
   ],
   "source": [
    "final_a, final_b, final_c, final_d= descend(a,x_train,b,c,d,y_train,learning_rate,iterations)"
   ]
  },
  {
   "cell_type": "code",
   "execution_count": 32,
   "metadata": {},
   "outputs": [
    {
     "data": {
      "text/plain": [
       "[<matplotlib.lines.Line2D at 0x1cccc1611d0>,\n",
       " <matplotlib.lines.Line2D at 0x1cccc1612e8>,\n",
       " <matplotlib.lines.Line2D at 0x1cccc161668>]"
      ]
     },
     "execution_count": 32,
     "metadata": {},
     "output_type": "execute_result"
    },
    {
     "data": {
      "image/png": "[encoded data removed]",
      "text/plain": [
       "<Figure size 432x288 with 1 Axes>"
      ]
     },
     "metadata": {
      "needs_background": "light"
     },
     "output_type": "display_data"
    }
   ],
   "source": [
    "plt.plot(x_train,y_train,'r.',\n",
    "        x_train, hypothesis(a,x_train,b,c,d),'b.',\n",
    "        x_train, hypothesis(final_a,x_train,final_b,final_c,final_d),'g.')"
   ]
  },
  {
   "cell_type": "code",
   "execution_count": 33,
   "metadata": {},
   "outputs": [
    {
     "data": {
      "text/plain": [
       "array([0.29555556, 0.17333333, 0.32444444])"
      ]
     },
     "execution_count": 33,
     "metadata": {},
     "output_type": "execute_result"
    }
   ],
   "source": [
    "y_test[:3]"
   ]
  },
  {
   "cell_type": "code",
   "execution_count": 34,
   "metadata": {},
   "outputs": [
    {
     "data": {
      "text/plain": [
       "array([0.28902364, 0.26353767, 0.31689402])"
      ]
     },
     "execution_count": 34,
     "metadata": {},
     "output_type": "execute_result"
    }
   ],
   "source": [
    "hypothesis(final_a,x_test[:3],final_b,final_c,final_d)"
   ]
  },
  {
   "cell_type": "code",
   "execution_count": 35,
   "metadata": {},
   "outputs": [
    {
     "data": {
      "text/plain": [
       "0.12080363284274045"
      ]
     },
     "execution_count": 35,
     "metadata": {},
     "output_type": "execute_result"
    }
   ],
   "source": [
    "np.sqrt(error(final_a,x_test,final_b,final_c,final_d,y_test))"
   ]
  },
  {
   "cell_type": "code",
   "execution_count": 36,
   "metadata": {},
   "outputs": [
    {
     "data": {
      "text/plain": [
       "[<matplotlib.lines.Line2D at 0x1cccc1be630>,\n",
       " <matplotlib.lines.Line2D at 0x1cccc1be748>]"
      ]
     },
     "execution_count": 36,
     "metadata": {},
     "output_type": "execute_result"
    },
    {
     "data": {
      "image/png": "[encoded data removed]",
      "text/plain": [
       "<Figure size 432x288 with 1 Axes>"
      ]
     },
     "metadata": {
      "needs_background": "light"
     },
     "output_type": "display_data"
    }
   ],
   "source": [
    "plt.plot(x_test, y_test, 'r.',\n",
    "         x_test, hypothesis(final_a, x_test,final_b, final_c,final_d), 'g.')"
   ]
  },
  {
   "cell_type": "code",
   "execution_count": null,
   "metadata": {},
   "outputs": [],
   "source": []
  }
 ],
 "metadata": {
  "kernelspec": {
   "display_name": "Python 3",
   "language": "python",
   "name": "python3"
  },
  "language_info": {
   "codemirror_mode": {
    "name": "ipython",
    "version": 3
   },
   "file_extension": ".py",
   "mimetype": "text/x-python",
   "name": "python",
   "nbconvert_exporter": "python",
   "pygments_lexer": "ipython3",
   "version": "3.7.1"
  }
 },
 "nbformat": 4,
 "nbformat_minor": 2
}
